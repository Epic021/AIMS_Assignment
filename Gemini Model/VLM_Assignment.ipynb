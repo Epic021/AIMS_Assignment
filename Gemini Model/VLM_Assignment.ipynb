{
  "nbformat": 4,
  "nbformat_minor": 0,
  "metadata": {
    "colab": {
      "provenance": []
    },
    "kernelspec": {
      "name": "python3",
      "display_name": "Python 3"
    },
    "language_info": {
      "name": "python"
    }
  },
  "cells": [
    {
      "cell_type": "code",
      "execution_count": 74,
      "metadata": {
        "id": "kiBQGcHPJgqZ"
      },
      "outputs": [],
      "source": [
        "from PIL import Image\n",
        "from google import genai"
      ]
    },
    {
      "cell_type": "code",
      "source": [
        "import json\n",
        "\n",
        "# Load your JSON\n",
        "with open(\"/content/Train.json\") as f:\n",
        "    train_data = json.load(f)\n",
        "\n",
        "with open(\"/content/Test.json\") as f:\n",
        "    test_data = json.load(f)"
      ],
      "metadata": {
        "id": "3HvVC3xoLljw"
      },
      "execution_count": 75,
      "outputs": []
    },
    {
      "cell_type": "code",
      "source": [
        "Titles_train = []\n",
        "Outputs_train = []\n",
        "for i in range(len(train_data['Few_Shots_Examples'])) :\n",
        "  Titles_train.append(train_data['Few_Shots_Examples'][i]['input']['title'])\n",
        "  Outputs_train.append(train_data['Few_Shots_Examples'][i]['output'])"
      ],
      "metadata": {
        "id": "20rjz3YrLvr4"
      },
      "execution_count": 76,
      "outputs": []
    },
    {
      "cell_type": "code",
      "source": [
        "Titles_test = []\n",
        "Output_test = []\n",
        "for i in range(len(test_data['test_data'])) :\n",
        "  Titles_test.append(test_data['test_data'][i]['input']['title'])\n",
        "  Output_test.append(test_data['test_data'][i]['output'])"
      ],
      "metadata": {
        "id": "SeseIlImOe8q"
      },
      "execution_count": 77,
      "outputs": []
    },
    {
      "cell_type": "code",
      "source": [
        "Output_test"
      ],
      "metadata": {
        "colab": {
          "base_uri": "https://localhost:8080/"
        },
        "id": "eGtggCopThS6",
        "outputId": "67061061-7844-48b2-fd01-93c6486571b1"
      },
      "execution_count": 78,
      "outputs": [
        {
          "output_type": "execute_result",
          "data": {
            "text/plain": [
              "[{'summary': {'Ingredients': ['1 tablespoon vegetable oil',\n",
              "    '2 cloves garlic, minced',\n",
              "    '1 pound shredded cabbage',\n",
              "    '1 tablespoon soy sauce',\n",
              "    '1 tablespoon Chinese cooking wine (Shaoxing wine)'],\n",
              "   'Instructions': ['Heat oil in a wok, add garlic, and cook for a few seconds until slightly browned',\n",
              "    'Add shredded cabbage, stir to coat, cover, and cook for 1 minute',\n",
              "    'Pour in soy sauce, stir for another minute, then add cooking wine and stir-fry until tender',\n",
              "    'Serve hot and enjoy']}},\n",
              " {'summary': {'Ingredients': ['1 ¾ cups all-purpose flour, divided',\n",
              "    '¾ cup warm water, divided',\n",
              "    '1 tablespoon active dry yeast',\n",
              "    '1 teaspoon white sugar',\n",
              "    '2 tablespoons white sugar',\n",
              "    '1 tablespoon vegetable oil',\n",
              "    '¼ teaspoon salt',\n",
              "    '½ teaspoon baking powder'],\n",
              "   'Instructions': ['Mix 1/4 cup flour, 1/4 cup warm water, yeast, and 1 tsp sugar; let sit 30 mins',\n",
              "    'Add remaining ingredients and knead to smooth dough; let rise until tripled',\n",
              "    'Punch down, knead in baking powder, shape into 24 balls on wax paper squares',\n",
              "    'Steam in batches for 15 mins; remove lid carefully to avoid water dripping on buns']}},\n",
              " {'summary': {'Ingredients': ['2 (3 oz) packages soy sauce-flavored ramen noodles with seasoning packets',\n",
              "    '2 tbsp vegetable oil, divided',\n",
              "    '3 large eggs, beaten',\n",
              "    '2 tsp vegetable oil, divided',\n",
              "    '4 green onions, thinly sliced',\n",
              "    '1 small carrot, peeled and grated',\n",
              "    '½ cup green peas',\n",
              "    '¼ cup red bell pepper, minced',\n",
              "    '2 tbsp sesame oil, 1 tsp sesame oil, or to taste',\n",
              "    '1 tsp soy sauce, or to taste'],\n",
              "   'Instructions': ['Boil and drain ramen noodles; set aside',\n",
              "    'Scramble eggs in oil, then stir-fry onions, carrots, peas, and bell pepper separately',\n",
              "    'Stir-fry noodles in sesame and vegetable oil; season with sauces and ramen seasoning',\n",
              "    'Mix in cooked vegetables and eggs; toss and heat through']}},\n",
              " {'summary': {'Ingredients': ['2 large eggs',\n",
              "    '2 tablespoons salsa',\n",
              "    '1 slice reduced-fat American cheese',\n",
              "    '1 tortilla'],\n",
              "   'Instructions': ['Spray a bowl with nonstick spray, crack in eggs, add salsa, and stir',\n",
              "    'Microwave for 1 minute, stir, then cook for 1 more minute or until set',\n",
              "    'Place cheese on tortilla, top with the cooked egg mixture',\n",
              "    'Wrap it up like a burrito and serve warm']}},\n",
              " {'summary': {'Ingredients': ['24 ounces frozen crispy chicken nuggets',\n",
              "    '1/2 cup mayonnaise',\n",
              "    '3 tablespoons sweet chili sauce',\n",
              "    '1 tablespoon Sriracha hot sauce (plus more if desired)',\n",
              "    '1/4 cup sliced green onions'],\n",
              "   'Instructions': ['Preheat air fryer to 300°F (or oven to 400°F)',\n",
              "    'Cook chicken nuggets for 10 minutes in the air fryer, shaking halfway, or bake for 12 minutes until golden',\n",
              "    'Mix mayonnaise, sweet chili sauce, and Sriracha in a bowl',\n",
              "    'Toss hot nuggets in the sauce until coated',\n",
              "    'Top with green onions and serve']}}]"
            ]
          },
          "metadata": {},
          "execution_count": 78
        }
      ]
    },
    {
      "cell_type": "code",
      "source": [
        "SYSTEM_PROMPT = \"\"\"\n",
        "You are a world-class culinary expert and recipe generator with exceptional skills in analyzing both images and text.\n",
        "Your role is to generate detailed, precise, and easy-to-follow cooking recipes based solely on a food item's image and its title.\n",
        "\n",
        "When given an image and a noisy title, you will:\n",
        "\n",
        "1. Observe the image carefully and identify visible ingredients, textures, and cooking styles.\n",
        "2. Use the title to understand the cuisine type, dish category, and possible variations , dont get confused by it's vague name.It is a unique description for that item.\n",
        "3. Think step-by-step about what ingredients would logically be included, considering common cooking methods for that dish.\n",
        "4. Curate a relevant list of ingredients required to cook the item.\n",
        "5. While generating the summary of the cooking recipe,break down the cooking process into clear, sequential instructions, ensuring clarity and precision.\n",
        "6. Provide the final output recipe as two distinct sections: Ingredients and Instructions.\n",
        "\"\"\""
      ],
      "metadata": {
        "id": "30AHF7ZsMXQy"
      },
      "execution_count": 79,
      "outputs": []
    },
    {
      "cell_type": "code",
      "source": [
        "# prompt = f\"\"\" {SYSTEM_PROMPT} \\n\\n\n",
        "#         Below are some examples on what the input and output looks like,\n",
        "#         you will be given the input image and title text {Titles_train}\n",
        "#         and you have to generate the output in the format as shown below for each of the example : \\n\n",
        "#         {Outputs_train}\n",
        "#         Strictly Follow the output format , No extra output needed\n",
        "#          \"\"\""
      ],
      "metadata": {
        "id": "KAp5LrAfMXS5"
      },
      "execution_count": 80,
      "outputs": []
    },
    {
      "cell_type": "code",
      "source": [
        "img_11 = Image.open(\"/content/Train_Images/pasta.jpg\")\n",
        "img_12 = Image.open(\"/content/Train_Images/burger.jpg\")\n",
        "img_13 = Image.open(\"/content/Train_Images/sandwich.jpg\")\n",
        "img_14 = Image.open(\"/content/Train_Images/Fish Tacos.jpg\")\n",
        "img_15 = Image.open(\"/content/Train_Images/Hot Honey Baked Beans.jpg\")\n",
        "img_16 = Image.open(\"/content/Train_Images/Marry Me Chickpeas.jpg\")\n",
        "img_17 = Image.open(\"/content/Train_Images/Bagels.jpg\")\n",
        "img_18 = Image.open(\"/content/Train_Images/Kheer (Rice Pudding).jpg\")\n",
        "img_19 = Image.open(\"/content/Train_Images/paneer tikka masala.jpg\")\n",
        "img_20 = Image.open(\"/content/Train_Images/Coffee Cake.jpg\")\n",
        "Images_train = [img_11,img_12,img_13,img_14,img_15,img_16,img_17,img_18,img_19,img_20]"
      ],
      "metadata": {
        "id": "xlpBxhdtZCt0"
      },
      "execution_count": 81,
      "outputs": []
    },
    {
      "cell_type": "code",
      "source": [
        "prompt = f\"\"\" {SYSTEM_PROMPT} \\n\\n\n",
        "        Below are some examples on what the input and output looks like,\n",
        "        you will be given the input image {Images_train}and title text {Titles_train}\n",
        "        and you have to generate the output in the format as shown below for each of the example : \\n\n",
        "        {Outputs_train}\n",
        "        Strictly Follow the output format , No extra output needed\n",
        "         \"\"\""
      ],
      "metadata": {
        "id": "N5dY64UCY4UY"
      },
      "execution_count": 82,
      "outputs": []
    },
    {
      "cell_type": "code",
      "source": [
        "Titles_test"
      ],
      "metadata": {
        "colab": {
          "base_uri": "https://localhost:8080/"
        },
        "id": "4Y4O2EFwP2UY",
        "outputId": "d6bded66-2d93-4321-f1e5-42ee9e9c3ea0"
      },
      "execution_count": 83,
      "outputs": [
        {
          "output_type": "execute_result",
          "data": {
            "text/plain": [
              "['Fried Cabbage',\n",
              " 'Fluffy Buns',\n",
              " 'Noodly Stir Fry',\n",
              " 'Breakfast Wrap',\n",
              " 'Chicken Bits']"
            ]
          },
          "metadata": {},
          "execution_count": 83
        }
      ]
    },
    {
      "cell_type": "code",
      "source": [
        "img_1 = Image.open(\"/content/Cabbage Stir Fry.jpg\")\n",
        "img_2 = Image.open(\"/content/steamed buns.jpg\")\n",
        "img_3 = Image.open(\"/content/Fried Noodles.jpg\")\n",
        "img_4 = Image.open(\"/content/burrito.jpg\")\n",
        "img_5 = Image.open(\"/content/chicken bites.jpg\")\n",
        "Images_test = [img_1,img_2,img_3,img_4,img_5]"
      ],
      "metadata": {
        "id": "TozYzEwJP0xE"
      },
      "execution_count": 84,
      "outputs": []
    },
    {
      "cell_type": "code",
      "source": [
        "client = genai.Client(api_key=\"GEMINI_API_KEY\") # Kripya Apni API daale\n",
        "responses = []\n",
        "\n",
        "for i in range(len(Titles_test)) :\n",
        "  title = Titles_test[i]\n",
        "\n",
        "  image = Images_test[i]\n",
        "  final_prompt = prompt + f\" \\n For the given Input Image and Title : {title} , Give the Recipe Summary Output with ingredients and instructions in about 3-4 steps\"\n",
        "  response = client.models.generate_content(\n",
        "      model=\"gemini-2.0-flash\",\n",
        "      contents=[image, final_prompt]\n",
        "  )\n",
        "  responses.append(response.text)\n",
        "responses\n"
      ],
      "metadata": {
        "colab": {
          "base_uri": "https://localhost:8080/"
        },
        "id": "_5aFnuqFKPBD",
        "outputId": "84536654-d6b0-481b-c503-7d5f641f8301"
      },
      "execution_count": 85,
      "outputs": [
        {
          "output_type": "execute_result",
          "data": {
            "text/plain": [
              "[\"```json\\n[\\n  {\\n    'summary': {\\n      'Ingredients': [\\n        '1 medium head of cabbage, shredded',\\n        '1/4 cup bacon grease or vegetable oil',\\n        '1/2 medium onion, sliced',\\n        '2 cloves garlic, minced',\\n        '1/4 cup chicken broth or water',\\n        '2 tablespoons soy sauce',\\n        '1 tablespoon rice vinegar',\\n        '1 teaspoon sugar',\\n        'Salt and pepper to taste'\\n      ],\\n      'Instructions': [\\n        'Heat bacon grease or oil in a large skillet over medium-high heat. Add onion and cook until softened.',\\n        'Add garlic and shredded cabbage. Stir-fry until cabbage is tender-crisp and slightly browned.',\\n        'Pour in chicken broth or water, soy sauce, rice vinegar, and sugar. Season with salt and pepper. Cook until liquid is absorbed.',\\n        'Serve hot as a side dish.'\\n      ]\\n    }\\n  }\\n]\\n```\",\n",
              " '```json\\n[\\n  {\"summary\": {\"Ingredients\": [\"2 cups all-purpose flour\", \"1 cup warm milk\", \"2 tablespoons sugar\", \"1 teaspoon instant dry yeast\", \"1/2 teaspoon salt\", \"2 tablespoons vegetable oil or melted butter\", \"Optional: parchment paper squares for steaming\"], \"Instructions\": [\"In a large bowl, combine warm milk, sugar, and yeast; let it sit for 5-10 minutes until foamy.\", \"Add flour, salt, and oil/butter; mix until a dough forms, then knead until smooth and elastic; let rise until doubled.\", \"Divide dough into equal portions, shape into smooth buns, and let proof on parchment paper squares.\", \"Steam buns in a bamboo steamer until fluffy and cooked through; serve warm.\"]}}\\n]\\n```',\n",
              " '```json\\n{\"summary\": {\"Ingredients\": [\"8 oz rice noodles\", \"1 tbsp sesame oil\", \"1 cup scrambled eggs, cooked\", \"1/2 cup red bell pepper, diced\", \"1/2 cup carrots, julienned\", \"1/4 cup green peas\", \"2 green onions, chopped\", \"2 tbsp soy sauce\", \"1 tbsp oyster sauce\", \"1 tsp rice vinegar\", \"1/2 tsp sugar\", \"1/4 tsp ground ginger\", \"1 clove garlic, minced\", \"Salt and pepper to taste\"], \"Instructions\": [\"Cook rice noodles according to package directions, then toss with sesame oil.\", \"In a wok or large skillet, combine cooked noodles, scrambled eggs, bell pepper, carrots, and peas.\", \"Add soy sauce, oyster sauce, rice vinegar, sugar, ginger, and garlic to the wok. Stir-fry until heated through and well combined.\", \"Garnish with green onions and serve immediately.\"]}\\n}\\n```',\n",
              " '```json\\n[\\n  {\"summary\": {\"Ingredients\": [\"2 large eggs\", \"1/4 cup milk\", \"Salt and pepper to taste\", \"1/4 cup shredded cheddar cheese\", \"2 slices bacon, cooked and crumbled\", \"1/4 cup diced tomatoes\", \"1/4 cup diced onions\", \"1 large flour tortilla\"], \"Instructions\": [\"Whisk eggs with milk, salt, and pepper, then scramble in a non-stick pan until cooked.\", \"Add cheddar cheese, bacon, tomatoes, and onions to the scrambled eggs.\", \"Warm the tortilla, then fill with the egg mixture.\", \"Wrap tightly and serve immediately.\"\\n]}}\\n]\\n```',\n",
              " \"```json\\n[\\n  {\\n    'summary': {\\n      'Ingredients': [\\n        '1.5 lbs boneless, skinless chicken thighs, cut into bite-sized pieces',\\n        '1 cup all-purpose flour',\\n        '1 teaspoon salt',\\n        '1/2 teaspoon black pepper',\\n        '1/2 teaspoon garlic powder',\\n        '1/2 teaspoon paprika',\\n        '1 large egg',\\n        '1/2 cup milk',\\n        'Vegetable oil, for frying',\\n        '1/2 cup honey',\\n        '1/4 cup soy sauce',\\n        '2 tablespoons rice vinegar',\\n        '1 tablespoon sesame oil',\\n        '1 teaspoon cornstarch',\\n        '1/2 teaspoon red pepper flakes (optional)',\\n        '1 green onion, thinly sliced',\\n        '1 tablespoon sesame seeds'\\n      ],\\n      'Instructions': [\\n        'Prepare chicken by tossing it with flour, salt, pepper, garlic powder, and paprika. In another bowl, whisk together egg and milk, then dip the chicken in the egg mixture, ensuring it is fully coated.',\\n        'Heat vegetable oil in a large skillet or deep fryer. Fry the chicken in batches until golden brown and cooked through. Remove and drain excess oil on paper towels.',\\n        'In a saucepan, whisk together honey, soy sauce, rice vinegar, sesame oil, cornstarch, and red pepper flakes (if using). Cook over medium heat, stirring until the sauce thickens. Add the fried chicken and toss to coat evenly.',\\n        'Garnish with sesame seeds and sliced green onions before serving.'\\n      ]\\n    }\\n  }\\n]\\n```\"]"
            ]
          },
          "metadata": {},
          "execution_count": 85
        }
      ]
    },
    {
      "cell_type": "code",
      "source": [
        "import json\n",
        "import re\n",
        "\n",
        "# Your raw data\n",
        "raw_data = responses\n",
        "cleaned_data = []\n",
        "\n",
        "for item in raw_data:\n",
        "    # Step 1: Remove Markdown syntax\n",
        "    cleaned = re.sub(r\"```json\\n|```\", \"\", item.strip())\n",
        "\n",
        "    # Step 2: Replace single quotes with double quotes (basic fix)\n",
        "    cleaned = cleaned.replace(\"'\", '\"')\n",
        "\n",
        "    # Step 3: Ensure it’s wrapped in a list (if not already)\n",
        "    if not cleaned.strip().startswith(\"[\"):\n",
        "        cleaned = f\"[{cleaned}]\"\n",
        "\n",
        "    try:\n",
        "        # Step 4: Load to Python object\n",
        "        parsed = json.loads(cleaned)\n",
        "        cleaned_data.extend(parsed)  # combine all into one list\n",
        "    except json.JSONDecodeError as e:\n",
        "        print(f\"Failed to parse:\\n{cleaned[:100]}...\\nError: {e}\\n\")\n",
        "\n",
        "# Step 5: Save final combined JSON\n",
        "with open(\"generated_output.json\", \"w\") as f:\n",
        "    json.dump(cleaned_data, f, indent=4)"
      ],
      "metadata": {
        "id": "1SbXUkGAODvz"
      },
      "execution_count": 86,
      "outputs": []
    },
    {
      "cell_type": "code",
      "source": [
        "Generated_test = cleaned_data"
      ],
      "metadata": {
        "id": "lFqaPSbJRy9D"
      },
      "execution_count": 87,
      "outputs": []
    },
    {
      "cell_type": "code",
      "source": [
        "!pip install rouge-score"
      ],
      "metadata": {
        "colab": {
          "base_uri": "https://localhost:8080/"
        },
        "id": "R4I5UCx9ULGb",
        "outputId": "e2fd2dec-a0ce-4ff5-b524-db00c2061771"
      },
      "execution_count": 36,
      "outputs": [
        {
          "output_type": "stream",
          "name": "stdout",
          "text": [
            "Collecting rouge-score\n",
            "  Downloading rouge_score-0.1.2.tar.gz (17 kB)\n",
            "  Preparing metadata (setup.py) ... \u001b[?25l\u001b[?25hdone\n",
            "Requirement already satisfied: absl-py in /usr/local/lib/python3.11/dist-packages (from rouge-score) (1.4.0)\n",
            "Requirement already satisfied: nltk in /usr/local/lib/python3.11/dist-packages (from rouge-score) (3.9.1)\n",
            "Requirement already satisfied: numpy in /usr/local/lib/python3.11/dist-packages (from rouge-score) (2.0.2)\n",
            "Requirement already satisfied: six>=1.14.0 in /usr/local/lib/python3.11/dist-packages (from rouge-score) (1.17.0)\n",
            "Requirement already satisfied: click in /usr/local/lib/python3.11/dist-packages (from nltk->rouge-score) (8.2.0)\n",
            "Requirement already satisfied: joblib in /usr/local/lib/python3.11/dist-packages (from nltk->rouge-score) (1.5.0)\n",
            "Requirement already satisfied: regex>=2021.8.3 in /usr/local/lib/python3.11/dist-packages (from nltk->rouge-score) (2024.11.6)\n",
            "Requirement already satisfied: tqdm in /usr/local/lib/python3.11/dist-packages (from nltk->rouge-score) (4.67.1)\n",
            "Building wheels for collected packages: rouge-score\n",
            "  Building wheel for rouge-score (setup.py) ... \u001b[?25l\u001b[?25hdone\n",
            "  Created wheel for rouge-score: filename=rouge_score-0.1.2-py3-none-any.whl size=24934 sha256=9ba0b83d47c5d56c437e10acb859db3e9db94b7e770689c375416cc7255d657b\n",
            "  Stored in directory: /root/.cache/pip/wheels/1e/19/43/8a442dc83660ca25e163e1bd1f89919284ab0d0c1475475148\n",
            "Successfully built rouge-score\n",
            "Installing collected packages: rouge-score\n",
            "Successfully installed rouge-score-0.1.2\n"
          ]
        }
      ]
    },
    {
      "cell_type": "code",
      "source": [
        "from nltk.translate.bleu_score import sentence_bleu, SmoothingFunction\n",
        "from rouge_score import rouge_scorer\n",
        "\n",
        "smoothie = SmoothingFunction().method4\n",
        "rouge = rouge_scorer.RougeScorer(['rouge1', 'rouge2', 'rougeL'], use_stemmer=True)\n",
        "\n",
        "bleu_scores = []\n",
        "rouge1_scores = []\n",
        "rouge2_scores = []\n",
        "rougeL_scores = []\n",
        "\n",
        "for pred, actual in zip(Generated_test, Output_test):\n",
        "    pred_text = \" \".join(pred[\"summary\"][\"Ingredients\"] + pred[\"summary\"][\"Instructions\"])\n",
        "    actual_text = \" \".join(actual[\"summary\"][\"Ingredients\"] + actual[\"summary\"][\"Instructions\"])\n",
        "\n",
        "    # BLEU\n",
        "    reference = [actual_text.split()]\n",
        "    hypothesis = pred_text.split()\n",
        "    bleu = sentence_bleu(reference, hypothesis, smoothing_function=smoothie)\n",
        "    bleu_scores.append(bleu)\n",
        "\n",
        "    # ROUGE\n",
        "    rouge_result = rouge.score(actual_text, pred_text)\n",
        "    rouge1_scores.append(rouge_result['rouge1'].fmeasure)\n",
        "    rouge2_scores.append(rouge_result['rouge2'].fmeasure)\n",
        "    rougeL_scores.append(rouge_result['rougeL'].fmeasure)\n",
        "\n",
        "# Average scores\n",
        "avg_bleu = sum(bleu_scores) / len(bleu_scores)\n",
        "avg_rouge1 = sum(rouge1_scores) / len(rouge1_scores)\n",
        "avg_rouge2 = sum(rouge2_scores) / len(rouge2_scores)\n",
        "avg_rougeL = sum(rougeL_scores) / len(rougeL_scores)\n",
        "\n",
        "print(f\"BLEU Score: {avg_bleu:.4f}\")\n",
        "print(f\"ROUGE-1 F1: {avg_rouge1:.4f}\")\n",
        "print(f\"ROUGE-2 F1: {avg_rouge2:.4f}\")\n",
        "print(f\"ROUGE-L F1: {avg_rougeL:.4f}\")\n"
      ],
      "metadata": {
        "colab": {
          "base_uri": "https://localhost:8080/"
        },
        "id": "dHNhDmbsTmgV",
        "outputId": "b3c4868a-8292-4007-8ca5-50843b518124"
      },
      "execution_count": 88,
      "outputs": [
        {
          "output_type": "stream",
          "name": "stdout",
          "text": [
            "BLEU Score: 0.0461\n",
            "ROUGE-1 F1: 0.4650\n",
            "ROUGE-2 F1: 0.1612\n",
            "ROUGE-L F1: 0.2910\n"
          ]
        }
      ]
    },
    {
      "cell_type": "code",
      "source": [],
      "metadata": {
        "id": "ByIpyLfUdwoL"
      },
      "execution_count": null,
      "outputs": []
    },
    {
      "cell_type": "code",
      "source": [],
      "metadata": {
        "id": "9dHFCObIaCM_"
      },
      "execution_count": 68,
      "outputs": []
    },
    {
      "cell_type": "code",
      "source": [],
      "metadata": {
        "id": "nq2l6syXhLrW"
      },
      "execution_count": null,
      "outputs": []
    }
  ]
}